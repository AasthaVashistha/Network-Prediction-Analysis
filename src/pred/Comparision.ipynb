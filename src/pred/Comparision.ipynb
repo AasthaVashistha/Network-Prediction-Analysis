{
 "cells": [
  {
   "cell_type": "code",
   "execution_count": 1,
   "id": "8d4e31df",
   "metadata": {},
   "outputs": [],
   "source": [
    "import pandas as pd"
   ]
  },
  {
   "cell_type": "code",
   "execution_count": 2,
   "id": "da0dd4a7",
   "metadata": {},
   "outputs": [],
   "source": [
    "df = pd.read_csv(\"/home/astha/minor_pro/Network-Prediction-Analysis/src/data/Data1.csv\")\n",
    "lstm_df = pd.read_csv(\"/home/astha/minor_pro/Network-Prediction-Analysis/src/data/lstm_result.csv\")\n",
    "xgb_df = pd.read_csv(\"/home/astha/minor_pro/Network-Prediction-Analysis/src/data/xgb_result.csv\")"
   ]
  },
  {
   "cell_type": "code",
   "execution_count": 3,
   "id": "0cb5405d",
   "metadata": {},
   "outputs": [],
   "source": [
    "df['PERIOD_START_TIME'] = pd.to_datetime(df['PERIOD_START_TIME'])\n",
    "original_25sep = df[df['PERIOD_START_TIME'].dt.date == pd.to_datetime(\"2022-09-27\").date()]\n",
    "original_25sep = original_25sep[['PERIOD_START_TIME', 'pl', 'pd', 'pdv']].reset_index(drop=True)\n"
   ]
  },
  {
   "cell_type": "code",
   "execution_count": 4,
   "id": "58f29b3a",
   "metadata": {},
   "outputs": [],
   "source": [
    "xgb_df['PERIOD_START_TIME'] = pd.to_datetime(xgb_df['PERIOD_START_TIME'])\n",
    "lstm_df['PERIOD_START_TIME'] = pd.to_datetime(lstm_df['PERIOD_START_TIME'])"
   ]
  },
  {
   "cell_type": "code",
   "execution_count": 5,
   "id": "b555011e",
   "metadata": {},
   "outputs": [],
   "source": [
    "merged_df = original_25sep.merge(\n",
    "    xgb_df, on='PERIOD_START_TIME', how='left'\n",
    ").merge(\n",
    "    lstm_df, left_on='PERIOD_START_TIME', right_on='PERIOD_START_TIME', how='left'\n",
    ")"
   ]
  },
  {
   "cell_type": "code",
   "execution_count": 6,
   "id": "eacf9047",
   "metadata": {},
   "outputs": [],
   "source": [
    "final = merged_df[[\n",
    "    'PERIOD_START_TIME',\n",
    "    'pl', 'pl_lstm','pl_xgb',\n",
    "    'pd','pd_lstm', 'pd_xgb', \n",
    "    'pdv', 'pdv_lstm', 'pdv_xgb'\n",
    "]]"
   ]
  },
  {
   "cell_type": "code",
   "execution_count": 8,
   "id": "7cba94ef",
   "metadata": {},
   "outputs": [
    {
     "name": "stdout",
     "output_type": "stream",
     "text": [
      "Forecast results saved to /home/astha/minor_pro/Network-Prediction-Analysis/src/data/final_result.csv\n"
     ]
    }
   ],
   "source": [
    "final_df = pd.DataFrame(final)\n",
    "output = '/home/astha/minor_pro/Network-Prediction-Analysis/src/data/final_result.csv'\n",
    "final_df.to_csv(output, index=False)\n",
    "\n",
    "print(f\"Forecast results saved to {output}\")"
   ]
  },
  {
   "cell_type": "code",
   "execution_count": 9,
   "id": "6aa6e3e7",
   "metadata": {},
   "outputs": [],
   "source": [
    "result = pd.read_csv('/home/astha/minor_pro/Network-Prediction-Analysis/src/data/final_result.csv')"
   ]
  },
  {
   "cell_type": "code",
   "execution_count": 10,
   "id": "0c1c235d",
   "metadata": {},
   "outputs": [
    {
     "data": {
      "text/html": [
       "<div>\n",
       "<style scoped>\n",
       "    .dataframe tbody tr th:only-of-type {\n",
       "        vertical-align: middle;\n",
       "    }\n",
       "\n",
       "    .dataframe tbody tr th {\n",
       "        vertical-align: top;\n",
       "    }\n",
       "\n",
       "    .dataframe thead th {\n",
       "        text-align: right;\n",
       "    }\n",
       "</style>\n",
       "<table border=\"1\" class=\"dataframe\">\n",
       "  <thead>\n",
       "    <tr style=\"text-align: right;\">\n",
       "      <th></th>\n",
       "      <th>PERIOD_START_TIME</th>\n",
       "      <th>pl</th>\n",
       "      <th>pl_lstm</th>\n",
       "      <th>pl_xgb</th>\n",
       "      <th>pd</th>\n",
       "      <th>pd_lstm</th>\n",
       "      <th>pd_xgb</th>\n",
       "      <th>pdv</th>\n",
       "      <th>pdv_lstm</th>\n",
       "      <th>pdv_xgb</th>\n",
       "    </tr>\n",
       "  </thead>\n",
       "  <tbody>\n",
       "    <tr>\n",
       "      <th>0</th>\n",
       "      <td>2022-09-27 06:00:00</td>\n",
       "      <td>0.001182</td>\n",
       "      <td>0.002509</td>\n",
       "      <td>0.004698</td>\n",
       "      <td>0.716064</td>\n",
       "      <td>0.793883</td>\n",
       "      <td>0.728813</td>\n",
       "      <td>0.022242</td>\n",
       "      <td>0.026535</td>\n",
       "      <td>0.031685</td>\n",
       "    </tr>\n",
       "    <tr>\n",
       "      <th>1</th>\n",
       "      <td>2022-09-27 06:00:00</td>\n",
       "      <td>0.001182</td>\n",
       "      <td>0.002509</td>\n",
       "      <td>0.004698</td>\n",
       "      <td>0.716064</td>\n",
       "      <td>0.793883</td>\n",
       "      <td>0.728813</td>\n",
       "      <td>0.022242</td>\n",
       "      <td>0.026535</td>\n",
       "      <td>0.031685</td>\n",
       "    </tr>\n",
       "    <tr>\n",
       "      <th>2</th>\n",
       "      <td>2022-09-27 06:15:00</td>\n",
       "      <td>0.001182</td>\n",
       "      <td>0.003919</td>\n",
       "      <td>0.005167</td>\n",
       "      <td>0.723046</td>\n",
       "      <td>0.777708</td>\n",
       "      <td>0.719052</td>\n",
       "      <td>0.022997</td>\n",
       "      <td>0.028238</td>\n",
       "      <td>0.025590</td>\n",
       "    </tr>\n",
       "    <tr>\n",
       "      <th>3</th>\n",
       "      <td>2022-09-27 06:15:00</td>\n",
       "      <td>0.001182</td>\n",
       "      <td>0.003919</td>\n",
       "      <td>0.005167</td>\n",
       "      <td>0.723046</td>\n",
       "      <td>0.777708</td>\n",
       "      <td>0.719052</td>\n",
       "      <td>0.022997</td>\n",
       "      <td>0.028238</td>\n",
       "      <td>0.025590</td>\n",
       "    </tr>\n",
       "    <tr>\n",
       "      <th>4</th>\n",
       "      <td>2022-09-27 06:30:00</td>\n",
       "      <td>0.000939</td>\n",
       "      <td>0.004487</td>\n",
       "      <td>0.002859</td>\n",
       "      <td>0.718230</td>\n",
       "      <td>0.778523</td>\n",
       "      <td>0.729058</td>\n",
       "      <td>0.022982</td>\n",
       "      <td>0.029425</td>\n",
       "      <td>0.025098</td>\n",
       "    </tr>\n",
       "  </tbody>\n",
       "</table>\n",
       "</div>"
      ],
      "text/plain": [
       "     PERIOD_START_TIME        pl   pl_lstm    pl_xgb        pd   pd_lstm  \\\n",
       "0  2022-09-27 06:00:00  0.001182  0.002509  0.004698  0.716064  0.793883   \n",
       "1  2022-09-27 06:00:00  0.001182  0.002509  0.004698  0.716064  0.793883   \n",
       "2  2022-09-27 06:15:00  0.001182  0.003919  0.005167  0.723046  0.777708   \n",
       "3  2022-09-27 06:15:00  0.001182  0.003919  0.005167  0.723046  0.777708   \n",
       "4  2022-09-27 06:30:00  0.000939  0.004487  0.002859  0.718230  0.778523   \n",
       "\n",
       "     pd_xgb       pdv  pdv_lstm   pdv_xgb  \n",
       "0  0.728813  0.022242  0.026535  0.031685  \n",
       "1  0.728813  0.022242  0.026535  0.031685  \n",
       "2  0.719052  0.022997  0.028238  0.025590  \n",
       "3  0.719052  0.022997  0.028238  0.025590  \n",
       "4  0.729058  0.022982  0.029425  0.025098  "
      ]
     },
     "execution_count": 10,
     "metadata": {},
     "output_type": "execute_result"
    }
   ],
   "source": [
    "result.head()"
   ]
  },
  {
   "cell_type": "code",
   "execution_count": null,
   "id": "68c0fd8c",
   "metadata": {},
   "outputs": [],
   "source": []
  }
 ],
 "metadata": {
  "kernelspec": {
   "display_name": ".venv",
   "language": "python",
   "name": "python3"
  },
  "language_info": {
   "codemirror_mode": {
    "name": "ipython",
    "version": 3
   },
   "file_extension": ".py",
   "mimetype": "text/x-python",
   "name": "python",
   "nbconvert_exporter": "python",
   "pygments_lexer": "ipython3",
   "version": "3.12.3"
  }
 },
 "nbformat": 4,
 "nbformat_minor": 5
}
