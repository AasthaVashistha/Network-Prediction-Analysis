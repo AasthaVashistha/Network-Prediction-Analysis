{
 "cells": [
  {
   "cell_type": "code",
   "execution_count": 1,
   "id": "0eb50146",
   "metadata": {},
   "outputs": [],
   "source": [
    "import pandas as pd\n",
    "import numpy as np\n",
    "from sklearn.preprocessing import MinMaxScaler\n",
    "from xgboost import XGBRegressor\n",
    "from sklearn.model_selection import train_test_split\n",
    "from sklearn.metrics import mean_squared_error\n"
   ]
  },
  {
   "cell_type": "code",
   "execution_count": 3,
   "id": "17f207ae",
   "metadata": {},
   "outputs": [],
   "source": [
    "# Load the data\n",
    "df = pd.read_csv(\"/home/astha/minor_pro/Network-Prediction-Analysis/src/data/Data1.csv\")\n",
    "df['PERIOD_START_TIME'] = pd.to_datetime(df['PERIOD_START_TIME'])\n"
   ]
  },
  {
   "cell_type": "code",
   "execution_count": 7,
   "id": "8d9c5ac4",
   "metadata": {},
   "outputs": [
    {
     "data": {
      "text/plain": [
       "<bound method NDFrame.head of        PERIOD_START_TIME        pl        pd       pdv\n",
       "0    2022-07-04 06:00:00  0.003754  0.975612  0.018548\n",
       "1    2022-07-04 06:15:00  0.003019  0.976934  0.019894\n",
       "2    2022-07-04 06:30:00  0.005802  0.977411  0.020060\n",
       "3    2022-07-04 06:45:00  0.004035  0.977569  0.021209\n",
       "4    2022-07-04 07:00:00  0.005641  0.981013  0.024581\n",
       "...                  ...       ...       ...       ...\n",
       "5888 2022-10-01 22:45:00  0.004487  0.744733  0.044438\n",
       "5889 2022-10-01 23:00:00  0.001543  0.732024  0.031747\n",
       "5890 2022-10-01 23:15:00  0.001963  0.728793  0.028551\n",
       "5891 2022-10-01 23:30:00  0.008098  0.738851  0.038595\n",
       "5892 2022-10-01 23:45:00  0.006501  0.734670  0.036419\n",
       "\n",
       "[5893 rows x 4 columns]>"
      ]
     },
     "execution_count": 7,
     "metadata": {},
     "output_type": "execute_result"
    }
   ],
   "source": [
    "df.head"
   ]
  },
  {
   "cell_type": "code",
   "execution_count": 21,
   "id": "37e21c42",
   "metadata": {},
   "outputs": [],
   "source": [
    "# Create lagged features for 'pl', 'pd', and 'pdv'\n",
    "for lag in range(1, 4):\n",
    "    for col in ['pl', 'pd', 'pdv']:\n",
    "        lag_df[f'{col}_lag{lag}'] = lag_df[col].shift(lag)\n",
    "\n",
    "lag_df.dropna(inplace=True)\n",
    "\n",
    "# Define test date\n",
    "test_date = pd.to_datetime(\"2022-09-27\").date()\n",
    "\n",
    "# Split the lagged dataframe\n",
    "train_lag = lag_df[lag_df['PERIOD_START_TIME'].dt.date < test_date]\n",
    "test_lag = lag_df[lag_df['PERIOD_START_TIME'].dt.date == test_date]"
   ]
  },
  {
   "cell_type": "code",
   "execution_count": 24,
   "id": "70519275",
   "metadata": {},
   "outputs": [
    {
     "name": "stdout",
     "output_type": "stream",
     "text": [
      "Forecast results saved to ../data/xgb_result.csv\n"
     ]
    }
   ],
   "source": [
    "# --- Predict with XGBoost ---\n",
    "result_dict = {'PERIOD_START_TIME': test_lag['PERIOD_START_TIME'].values}\n",
    "\n",
    "# Dictionary to store scalers for inverse transformation\n",
    "scalers_xgb = {}\n",
    "\n",
    "# Iterate over each column to be predicted\n",
    "for col in ['pl', 'pd', 'pdv']:\n",
    "    # Prepare training data\n",
    "    X_train = train_lag[[f'{col}_lag1', f'{col}_lag2', f'{col}_lag3']]\n",
    "    y_train = train_lag[col].values.reshape(-1, 1)\n",
    "\n",
    "    # Create and fit a scaler for the target variable\n",
    "    scaler = MinMaxScaler()\n",
    "    y_train_scaled = scaler.fit_transform(y_train)\n",
    "    scalers_xgb[col] = scaler\n",
    "\n",
    "    # Prepare test data for prediction\n",
    "    X_test = test_lag[[f'{col}_lag1', f'{col}_lag2', f'{col}_lag3']]\n",
    "    \n",
    "    # Initialize and train the XGBoost model\n",
    "    model = XGBRegressor(\n",
    "        objective='reg:tweedie',\n",
    "        tweedie_variance_power=1.5,\n",
    "        learning_rate=0.1,\n",
    "        max_depth=4,\n",
    "        n_estimators=100,\n",
    "        random_state=42\n",
    "    )\n",
    "    model.fit(X_train, y_train_scaled)\n",
    "\n",
    "    # Make scaled predictions\n",
    "    y_pred_scaled = model.predict(X_test).reshape(-1, 1)\n",
    "\n",
    "    # Inverse transform the predictions to the original scale\n",
    "    y_pred_original = scaler.inverse_transform(y_pred_scaled).flatten()\n",
    "\n",
    "    # Clip any negative values that might occur\n",
    "    y_pred_original = np.clip(y_pred_original, 0, None)\n",
    "\n",
    "    # Store the predictions in the result dictionary\n",
    "    result_dict[f'{col}_xgb'] = y_pred_original\n",
    "\n",
    "# Save to CSV\n",
    "result_df = pd.DataFrame(result_dict)\n",
    "output_file = '../data/xgb_result.csv'\n",
    "result_df.to_csv(output_file, index=False)\n",
    "print(f\"Forecast results saved to {output_file}\")"
   ]
  },
  {
   "cell_type": "code",
   "execution_count": 25,
   "id": "6d88018f",
   "metadata": {},
   "outputs": [
    {
     "data": {
      "text/html": [
       "<div>\n",
       "<style scoped>\n",
       "    .dataframe tbody tr th:only-of-type {\n",
       "        vertical-align: middle;\n",
       "    }\n",
       "\n",
       "    .dataframe tbody tr th {\n",
       "        vertical-align: top;\n",
       "    }\n",
       "\n",
       "    .dataframe thead th {\n",
       "        text-align: right;\n",
       "    }\n",
       "</style>\n",
       "<table border=\"1\" class=\"dataframe\">\n",
       "  <thead>\n",
       "    <tr style=\"text-align: right;\">\n",
       "      <th></th>\n",
       "      <th>PERIOD_START_TIME</th>\n",
       "      <th>pl_xgb</th>\n",
       "      <th>pd_xgb</th>\n",
       "      <th>pdv_xgb</th>\n",
       "    </tr>\n",
       "  </thead>\n",
       "  <tbody>\n",
       "    <tr>\n",
       "      <th>0</th>\n",
       "      <td>2022-09-27 06:00:00</td>\n",
       "      <td>0.004698</td>\n",
       "      <td>0.728813</td>\n",
       "      <td>0.031685</td>\n",
       "    </tr>\n",
       "    <tr>\n",
       "      <th>1</th>\n",
       "      <td>2022-09-27 06:15:00</td>\n",
       "      <td>0.005167</td>\n",
       "      <td>0.719052</td>\n",
       "      <td>0.025590</td>\n",
       "    </tr>\n",
       "    <tr>\n",
       "      <th>2</th>\n",
       "      <td>2022-09-27 06:30:00</td>\n",
       "      <td>0.002859</td>\n",
       "      <td>0.729058</td>\n",
       "      <td>0.025098</td>\n",
       "    </tr>\n",
       "    <tr>\n",
       "      <th>3</th>\n",
       "      <td>2022-09-27 06:45:00</td>\n",
       "      <td>0.001849</td>\n",
       "      <td>0.719651</td>\n",
       "      <td>0.025397</td>\n",
       "    </tr>\n",
       "    <tr>\n",
       "      <th>4</th>\n",
       "      <td>2022-09-27 07:00:00</td>\n",
       "      <td>0.001514</td>\n",
       "      <td>0.719646</td>\n",
       "      <td>0.025171</td>\n",
       "    </tr>\n",
       "  </tbody>\n",
       "</table>\n",
       "</div>"
      ],
      "text/plain": [
       "     PERIOD_START_TIME    pl_xgb    pd_xgb   pdv_xgb\n",
       "0  2022-09-27 06:00:00  0.004698  0.728813  0.031685\n",
       "1  2022-09-27 06:15:00  0.005167  0.719052  0.025590\n",
       "2  2022-09-27 06:30:00  0.002859  0.729058  0.025098\n",
       "3  2022-09-27 06:45:00  0.001849  0.719651  0.025397\n",
       "4  2022-09-27 07:00:00  0.001514  0.719646  0.025171"
      ]
     },
     "execution_count": 25,
     "metadata": {},
     "output_type": "execute_result"
    }
   ],
   "source": [
    "xgb = pd.read_csv(\"/home/astha/minor_pro/Network-Prediction-Analysis/src/data/xgb_result.csv\")\n",
    "xgb.head()"
   ]
  }
 ],
 "metadata": {
  "kernelspec": {
   "display_name": ".venv",
   "language": "python",
   "name": "python3"
  },
  "language_info": {
   "codemirror_mode": {
    "name": "ipython",
    "version": 3
   },
   "file_extension": ".py",
   "mimetype": "text/x-python",
   "name": "python",
   "nbconvert_exporter": "python",
   "pygments_lexer": "ipython3",
   "version": "3.12.3"
  }
 },
 "nbformat": 4,
 "nbformat_minor": 5
}
